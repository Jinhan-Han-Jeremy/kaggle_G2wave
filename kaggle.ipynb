{
 "cells": [
  {
   "cell_type": "code",
   "execution_count": 92,
   "metadata": {},
   "outputs": [
    {
     "name": "stdout",
     "output_type": "stream",
     "text": [
      "Collecting gcsfs\n",
      "  Downloading gcsfs-2021.7.0-py2.py3-none-any.whl (23 kB)\n",
      "Requirement already satisfied: requests in /Users/jinhanhan/opt/anaconda3/lib/python3.8/site-packages (from gcsfs) (2.24.0)\n",
      "Collecting fsspec==2021.07.0\n",
      "  Downloading fsspec-2021.7.0-py3-none-any.whl (118 kB)\n",
      "\u001b[K     |████████████████████████████████| 118 kB 4.5 MB/s eta 0:00:01\n",
      "\u001b[?25hCollecting google-auth>=1.2\n",
      "  Downloading google_auth-2.0.1-py2.py3-none-any.whl (152 kB)\n",
      "\u001b[K     |████████████████████████████████| 152 kB 10.5 MB/s eta 0:00:01\n",
      "\u001b[?25hCollecting google-auth-oauthlib\n",
      "  Downloading google_auth_oauthlib-0.4.5-py2.py3-none-any.whl (18 kB)\n",
      "Requirement already satisfied: decorator in /Users/jinhanhan/opt/anaconda3/lib/python3.8/site-packages (from gcsfs) (4.4.2)\n",
      "Collecting aiohttp\n",
      "  Downloading aiohttp-3.7.4.post0-cp38-cp38-macosx_10_14_x86_64.whl (648 kB)\n",
      "\u001b[K     |████████████████████████████████| 648 kB 63.6 MB/s eta 0:00:01\n",
      "\u001b[?25hRequirement already satisfied: chardet<4,>=3.0.2 in /Users/jinhanhan/opt/anaconda3/lib/python3.8/site-packages (from requests->gcsfs) (3.0.4)\n",
      "Requirement already satisfied: idna<3,>=2.5 in /Users/jinhanhan/opt/anaconda3/lib/python3.8/site-packages (from requests->gcsfs) (2.10)\n",
      "Requirement already satisfied: certifi>=2017.4.17 in /Users/jinhanhan/opt/anaconda3/lib/python3.8/site-packages (from requests->gcsfs) (2020.6.20)\n",
      "Requirement already satisfied: urllib3!=1.25.0,!=1.25.1,<1.26,>=1.21.1 in /Users/jinhanhan/opt/anaconda3/lib/python3.8/site-packages (from requests->gcsfs) (1.25.9)\n",
      "Collecting cachetools<5.0,>=2.0.0\n",
      "  Downloading cachetools-4.2.2-py3-none-any.whl (11 kB)\n",
      "Collecting rsa<5,>=3.1.4\n",
      "  Downloading rsa-4.7.2-py3-none-any.whl (34 kB)\n",
      "Collecting pyasn1-modules>=0.2.1\n",
      "  Downloading pyasn1_modules-0.2.8-py2.py3-none-any.whl (155 kB)\n",
      "\u001b[K     |████████████████████████████████| 155 kB 13.3 MB/s eta 0:00:01\n",
      "\u001b[?25hRequirement already satisfied: setuptools>=40.3.0 in /Users/jinhanhan/opt/anaconda3/lib/python3.8/site-packages (from google-auth>=1.2->gcsfs) (49.2.0.post20200714)\n",
      "Collecting requests-oauthlib>=0.7.0\n",
      "  Downloading requests_oauthlib-1.3.0-py2.py3-none-any.whl (23 kB)\n",
      "Collecting async-timeout<4.0,>=3.0\n",
      "  Downloading async_timeout-3.0.1-py3-none-any.whl (8.2 kB)\n",
      "Requirement already satisfied: typing-extensions>=3.6.5 in /Users/jinhanhan/opt/anaconda3/lib/python3.8/site-packages (from aiohttp->gcsfs) (3.7.4.2)\n",
      "Requirement already satisfied: attrs>=17.3.0 in /Users/jinhanhan/opt/anaconda3/lib/python3.8/site-packages (from aiohttp->gcsfs) (19.3.0)\n",
      "Collecting yarl<2.0,>=1.0\n",
      "  Downloading yarl-1.6.3-cp38-cp38-macosx_10_14_x86_64.whl (124 kB)\n",
      "\u001b[K     |████████████████████████████████| 124 kB 51.5 MB/s eta 0:00:01\n",
      "\u001b[?25hCollecting multidict<7.0,>=4.5\n",
      "  Downloading multidict-5.1.0-cp38-cp38-macosx_10_14_x86_64.whl (49 kB)\n",
      "\u001b[K     |████████████████████████████████| 49 kB 6.3 MB/s eta 0:00:01\n",
      "\u001b[?25hCollecting pyasn1>=0.1.3\n",
      "  Downloading pyasn1-0.4.8-py2.py3-none-any.whl (77 kB)\n",
      "\u001b[K     |████████████████████████████████| 77 kB 22.4 MB/s eta 0:00:01\n",
      "\u001b[?25hCollecting oauthlib>=3.0.0\n",
      "  Downloading oauthlib-3.1.1-py2.py3-none-any.whl (146 kB)\n",
      "\u001b[K     |████████████████████████████████| 146 kB 6.3 MB/s eta 0:00:01\n",
      "\u001b[?25hInstalling collected packages: fsspec, cachetools, pyasn1, rsa, pyasn1-modules, google-auth, oauthlib, requests-oauthlib, google-auth-oauthlib, async-timeout, multidict, yarl, aiohttp, gcsfs\n",
      "  Attempting uninstall: fsspec\n",
      "    Found existing installation: fsspec 0.7.4\n",
      "    Uninstalling fsspec-0.7.4:\n",
      "      Successfully uninstalled fsspec-0.7.4\n",
      "Successfully installed aiohttp-3.7.4.post0 async-timeout-3.0.1 cachetools-4.2.2 fsspec-2021.7.0 gcsfs-2021.7.0 google-auth-2.0.1 google-auth-oauthlib-0.4.5 multidict-5.1.0 oauthlib-3.1.1 pyasn1-0.4.8 pyasn1-modules-0.2.8 requests-oauthlib-1.3.0 rsa-4.7.2 yarl-1.6.3\n"
     ]
    }
   ],
   "source": [
    "!pip install gcsfs"
   ]
  },
  {
   "cell_type": "code",
   "execution_count": 93,
   "metadata": {},
   "outputs": [
    {
     "name": "stdout",
     "output_type": "stream",
     "text": [
      "Input Sine Wave Signal:\n",
      "frequency = 98.0\n",
      "amplitude = 43.0\n",
      "phase ang = 69.0\n",
      "DFT Calculation Results:\n",
      "frequency = 98\n",
      "amplitude = 42.99999999999993\n",
      "phase ang = 69\n",
      "frequency = 262\n",
      "amplitude = 42.99999999999998\n",
      "phase ang = 111\n"
     ]
    }
   ],
   "source": [
    "\n",
    "import os\n",
    "import numpy as np\n",
    "import pandas as pd\n",
    "from PIL import Image\n",
    "from matplotlib import pyplot as plt\n",
    "import seaborn as sns\n",
    "import random\n",
    "import math\n",
    "import cmath\n",
    "\n",
    "pi2 = cmath.pi * 2.0\n",
    "\n",
    "def DFT(fnList):\n",
    "    N = len(fnList)\n",
    "    FmList = []\n",
    "    \n",
    "    for m in range(N):\n",
    "        Fm = 0.0\n",
    "        for n in range(N):\n",
    "            Fm += fnList[n] * cmath.exp(- 1j * pi2 * m * n / N)\n",
    "        FmList.append(Fm / N)\n",
    "    return FmList\n",
    "        \n",
    "def InverseDFT(FmList):\n",
    "    N = len(FmList)\n",
    "    fnList = []\n",
    "    for n in range(N):\n",
    "        fn = 0.0\n",
    "        for m in range(N):\n",
    "            fn += FmList[m] * cmath.exp(1j * pi2 * m * n / N)\n",
    "        fnList.append(fn)\n",
    "    return fnList\n",
    "\n",
    "# TEST\n",
    "print(\"Input Sine Wave Signal:\")\n",
    "N = 360 # degrees (Number of samples)\n",
    "a = float(random.randint(1, 100))\n",
    "f = float(random.randint(1, 100))\n",
    "p = float(random.randint(0, 360))\n",
    "print (\"frequency = \" + str(f))\n",
    "print (\"amplitude = \" + str(a))\n",
    "print (\"phase ang = \" + str(p))\n",
    "\n",
    "\n",
    "fnList = []\n",
    "for n in range(N):\n",
    "    t = float(n) / N * pi2\n",
    "    fn = a * math.sin(f * t + p / 360 * pi2)\n",
    "    fnList.append(fn)\n",
    "\n",
    "print(\"DFT Calculation Results:\")\n",
    "FmList = DFT(fnList)\n",
    "threshold = 0.001\n",
    "for (i, Fm) in enumerate(FmList):\n",
    "    if abs(Fm) > threshold:\n",
    "        print (\"frequency = \" + str(i))\n",
    "        print (\"amplitude = \" + str(abs(Fm) * 2.0))\n",
    "        p = int(((cmath.phase(Fm) + pi2 + pi2 / 4.0) % pi2) / pi2 * 360 + 0.5)\n",
    "        print (\"phase ang = \" + str(p))\n",
    "\n",
    "### Recreate input signal from DFT results and compare to input signal\n",
    "##fnList2 = InverseDFT(FmList)\n",
    "##for n in range(N):\n",
    "##    print fnList[n], fnList2[n].real"
   ]
  },
  {
   "cell_type": "code",
   "execution_count": 94,
   "metadata": {},
   "outputs": [],
   "source": [
    "GCS_DS_PATH = \"gs://kds-3e72e6682f329290f88dc99bf3e23068847f299afced96dfcd6902a3\""
   ]
  },
  {
   "cell_type": "code",
   "execution_count": null,
   "metadata": {},
   "outputs": [],
   "source": []
  },
  {
   "cell_type": "code",
   "execution_count": null,
   "metadata": {},
   "outputs": [],
   "source": []
  },
  {
   "cell_type": "code",
   "execution_count": 75,
   "metadata": {},
   "outputs": [],
   "source": [
    "\n",
    "df_sample_submission = pd.read_csv('/Users/jinhanhan/Documents/python/data_science/sample_submission.csv')\n",
    "df_training_labels = pd.read_csv('/Users/jinhanhan/Documents/python/data_science/training_labels.csv')\n",
    "data = [['sample',0.5]]\n",
    "df_real_submission = pd.DataFrame(data, columns = ['id', 'target'])"
   ]
  },
  {
   "cell_type": "code",
   "execution_count": 76,
   "metadata": {},
   "outputs": [
    {
     "name": "stdout",
     "output_type": "stream",
     "text": [
      "       id  target\n",
      "0  sample     0.5\n"
     ]
    }
   ],
   "source": [
    "print(df_real_submission)"
   ]
  },
  {
   "cell_type": "code",
   "execution_count": null,
   "metadata": {},
   "outputs": [],
   "source": []
  },
  {
   "cell_type": "code",
   "execution_count": 65,
   "metadata": {},
   "outputs": [
    {
     "name": "stdout",
     "output_type": "stream",
     "text": [
      "                id  target\n",
      "0       00000e74ad       1\n",
      "1       00001f4945       0\n",
      "2       0000661522       0\n",
      "3       00007a006a       0\n",
      "4       0000a38978       1\n",
      "...            ...     ...\n",
      "559995  ffff9a5645       1\n",
      "559996  ffffab0c27       0\n",
      "559997  ffffcf161a       1\n",
      "559998  ffffd2c403       0\n",
      "559999  fffff2180b       0\n",
      "\n",
      "[560000 rows x 2 columns]\n"
     ]
    }
   ],
   "source": [
    "print(df_training_labels)"
   ]
  },
  {
   "cell_type": "code",
   "execution_count": 66,
   "metadata": {},
   "outputs": [],
   "source": [
    "targets = df_training_labels[\"target\"]"
   ]
  },
  {
   "cell_type": "code",
   "execution_count": 46,
   "metadata": {},
   "outputs": [
    {
     "data": {
      "text/plain": [
       "0         1\n",
       "1         0\n",
       "2         0\n",
       "3         0\n",
       "4         1\n",
       "         ..\n",
       "559995    1\n",
       "559996    0\n",
       "559997    1\n",
       "559998    0\n",
       "559999    0\n",
       "Name: target, Length: 560000, dtype: int64"
      ]
     },
     "execution_count": 46,
     "metadata": {},
     "output_type": "execute_result"
    }
   ],
   "source": [
    "targets"
   ]
  },
  {
   "cell_type": "code",
   "execution_count": 43,
   "metadata": {},
   "outputs": [
    {
     "name": "stdout",
     "output_type": "stream",
     "text": [
      "0         00000e74ad\n",
      "1         00001f4945\n",
      "2         0000661522\n",
      "3         00007a006a\n",
      "4         0000a38978\n",
      "             ...    \n",
      "559995    ffff9a5645\n",
      "559996    ffffab0c27\n",
      "559997    ffffcf161a\n",
      "559998    ffffd2c403\n",
      "559999    fffff2180b\n",
      "Name: id, Length: 560000, dtype: object\n"
     ]
    }
   ],
   "source": [
    "print(df_training_labels[\"id\"])"
   ]
  },
  {
   "cell_type": "code",
   "execution_count": 47,
   "metadata": {},
   "outputs": [
    {
     "name": "stdout",
     "output_type": "stream",
     "text": [
      "                id  target\n",
      "0       00005bced6     0.5\n",
      "1       0000806717     0.5\n",
      "2       0000ef4fe1     0.5\n",
      "3       00020de251     0.5\n",
      "4       00024887b5     0.5\n",
      "...            ...     ...\n",
      "225995  ffff4125f1     0.5\n",
      "225996  ffff9d32a6     0.5\n",
      "225997  ffff9f4c1f     0.5\n",
      "225998  ffffa19693     0.5\n",
      "225999  ffffebbfe2     0.5\n",
      "\n",
      "[226000 rows x 2 columns]\n"
     ]
    }
   ],
   "source": [
    "print(df_sample_submission)"
   ]
  },
  {
   "cell_type": "code",
   "execution_count": 49,
   "metadata": {},
   "outputs": [
    {
     "name": "stdout",
     "output_type": "stream",
     "text": [
      "0         00005bced6\n",
      "1         0000806717\n",
      "2         0000ef4fe1\n",
      "3         00020de251\n",
      "4         00024887b5\n",
      "             ...    \n",
      "225995    ffff4125f1\n",
      "225996    ffff9d32a6\n",
      "225997    ffff9f4c1f\n",
      "225998    ffffa19693\n",
      "225999    ffffebbfe2\n",
      "Name: id, Length: 226000, dtype: object\n"
     ]
    }
   ],
   "source": [
    "print(df_sample_submission['id'])"
   ]
  },
  {
   "cell_type": "code",
   "execution_count": 60,
   "metadata": {},
   "outputs": [
    {
     "ename": "SyntaxError",
     "evalue": "invalid syntax (<ipython-input-60-f7826f146c9a>, line 1)",
     "output_type": "error",
     "traceback": [
      "\u001b[0;36m  File \u001b[0;32m\"<ipython-input-60-f7826f146c9a>\"\u001b[0;36m, line \u001b[0;32m1\u001b[0m\n\u001b[0;31m    kaggle competitions download -c g2net-gravitational-wave-detection\u001b[0m\n\u001b[0m           ^\u001b[0m\n\u001b[0;31mSyntaxError\u001b[0m\u001b[0;31m:\u001b[0m invalid syntax\n"
     ]
    }
   ],
   "source": [
    "kaggle competitions download -c g2net-gravitational-wave-detection"
   ]
  },
  {
   "cell_type": "code",
   "execution_count": 50,
   "metadata": {},
   "outputs": [
    {
     "data": {
      "image/png": "[encoded data removed]",
      "text/plain": [
       "<Figure size 576x432 with 1 Axes>"
      ]
     },
     "metadata": {
      "needs_background": "light"
     },
     "output_type": "display_data"
    }
   ],
   "source": [
    "import matplotlib.pyplot as plt\n",
    "import numpy as np\n",
    "\n",
    "\n",
    "#this data is used for other functions, dft or fft\n",
    "\n",
    "plt.style.use('seaborn-poster')\n",
    "%matplotlib inline\n",
    "\n",
    "# sampling rate\n",
    "sr = 100\n",
    "# sampling interval\n",
    "ts = 1.0/sr\n",
    "t = np.arange(0,1,ts)\n",
    "\n",
    "freq = 1.\n",
    "x = 3*np.sin(2*np.pi*freq*t)\n",
    "\n",
    "freq = 4\n",
    "x += np.sin(2*np.pi*freq*t)\n",
    "\n",
    "freq = 7   \n",
    "x += 0.5* np.sin(2*np.pi*freq*t)\n",
    "\n",
    "plt.figure(figsize = (8, 6))\n",
    "plt.plot(t, x, 'r')\n",
    "plt.ylabel('Amplitude')\n",
    "\n",
    "plt.show()"
   ]
  },
  {
   "cell_type": "code",
   "execution_count": null,
   "metadata": {},
   "outputs": [],
   "source": []
  },
  {
   "cell_type": "code",
   "execution_count": null,
   "metadata": {},
   "outputs": [],
   "source": [
    "def DFT(x):\n",
    "    \"\"\"\n",
    "    Function to calculate the \n",
    "    discrete Fourier Transform \n",
    "    of a 1D real-valued signal x\n",
    "    \"\"\"\n",
    "\n",
    "    N = len(x)\n",
    "    n = np.arange(N)\n",
    "    k = n.reshape((N, 1))\n",
    "    e = np.exp(-2j * np.pi * k * n / N)\n",
    "    \n",
    "    X = np.dot(e, x)\n",
    "    \n",
    "    return X"
   ]
  },
  {
   "cell_type": "code",
   "execution_count": 52,
   "metadata": {},
   "outputs": [],
   "source": [
    "def FFT(x):\n",
    "    \"\"\"\n",
    "    A recursive implementation of \n",
    "    the 1D Cooley-Tukey FFT, the \n",
    "    input should have a length of \n",
    "    power of 2. \n",
    "    \"\"\"\n",
    "    N = len(x)\n",
    "    \n",
    "    if N == 1:\n",
    "        return x\n",
    "    else:\n",
    "        X_even = FFT(x[::2])\n",
    "        X_odd = FFT(x[1::2])\n",
    "        factor = \\\n",
    "          np.exp(-2j*np.pi*np.arange(N)/ N)\n",
    "        \n",
    "        X = np.concatenate(\\\n",
    "            [X_even+factor[:int(N/2)]*X_odd,\n",
    "             X_even+factor[int(N/2):]*X_odd])\n",
    "        return X"
   ]
  },
  {
   "cell_type": "code",
   "execution_count": 56,
   "metadata": {},
   "outputs": [],
   "source": [
    "from scipy.fftpack import fftfreq\n",
    "from numpy.fft import fft, ifft"
   ]
  },
  {
   "cell_type": "code",
   "execution_count": 78,
   "metadata": {},
   "outputs": [
    {
     "name": "stderr",
     "output_type": "stream",
     "text": [
      "/Users/jinhanhan/opt/anaconda3/lib/python3.8/site-packages/numpy/core/_asarray.py:85: ComplexWarning: Casting complex values to real discards the imaginary part\n",
      "  return array(a, dtype, copy=False, order=order)\n"
     ]
    },
    {
     "data": {
      "image/png": "[encoded data removed]",
      "text/plain": [
       "<Figure size 864x432 with 1 Axes>"
      ]
     },
     "metadata": {
      "needs_background": "light"
     },
     "output_type": "display_data"
    },
    {
     "name": "stderr",
     "output_type": "stream",
     "text": [
      "<ipython-input-78-4175c397b7b3>:34: UserWarning: In Matplotlib 3.3 individual lines on a stem plot will be added as a LineCollection instead of individual lines. This significantly improves the performance of a stem plot. To remove this warning and switch to the new behaviour, set the \"use_line_collection\" keyword argument to True.\n",
      "  plt.stem(freq, np.abs(sig_fft), 'b', \\\n",
      "<ipython-input-78-4175c397b7b3>:43: UserWarning: In Matplotlib 3.3 individual lines on a stem plot will be added as a LineCollection instead of individual lines. This significantly improves the performance of a stem plot. To remove this warning and switch to the new behaviour, set the \"use_line_collection\" keyword argument to True.\n",
      "  plt.stem(freq, np.abs(sig_fft_filtered), 'b', \\\n"
     ]
    },
    {
     "data": {
      "image/png": "[encoded data removed]",
      "text/plain": [
       "<Figure size 864x432 with 2 Axes>"
      ]
     },
     "metadata": {
      "needs_background": "light"
     },
     "output_type": "display_data"
    }
   ],
   "source": [
    "# FFT the signal\n",
    "sig_fft = fft(x)\n",
    "# copy the FFT results\n",
    "sig_fft_filtered = sig_fft.copy()\n",
    "\n",
    "# obtain the frequencies using scipy function\n",
    "freq = fftfreq(len(x), d=1./100)\n",
    "\n",
    "# define the cut-off frequency\n",
    "cut_off = 6\n",
    "\n",
    "# high-pass filter by assign zeros to the \n",
    "# FFT amplitudes where the absolute \n",
    "# frequencies smaller than the cut-off \n",
    "sig_fft_filtered[np.abs(freq) < cut_off] = 0\n",
    "\n",
    "# get the filtered signal in time domain\n",
    "filtered = ifft(sig_fft_filtered)\n",
    "\n",
    "# plot the filtered signal\n",
    "plt.figure(figsize = (12, 6))\n",
    "#figsize (Width, height) in inches.\n",
    "\n",
    "plt.plot(t, filtered)\n",
    "plt.xlabel('Time (s)')\n",
    "plt.ylabel('strain')\n",
    "plt.show()\n",
    "\n",
    "\n",
    "\n",
    "# plot the FFT amplitude before and after\n",
    "plt.figure(figsize = (12, 6))\n",
    "plt.subplot(121)\n",
    "plt.stem(freq, np.abs(sig_fft), 'b', \\\n",
    "         markerfmt=\" \", basefmt=\"-b\")\n",
    "\n",
    "\n",
    "\n",
    "#may be not required below codes\n",
    "\n",
    "plt.title('Before filtering')\n",
    "plt.xlim(0, 10)\n",
    "plt.xlabel('Frequency (Hz)')\n",
    "plt.ylabel('FFT Amplitude')\n",
    "plt.subplot(122)\n",
    "plt.stem(freq, np.abs(sig_fft_filtered), 'b', \\\n",
    "         markerfmt=\" \", basefmt=\"-b\")\n",
    "\n",
    "plt.title('After filtering')\n",
    "plt.xlim(0, 10)\n",
    "plt.xlabel('Frequency (Hz)')\n",
    "plt.ylabel('FFT Amplitude')\n",
    "plt.tight_layout()\n",
    "plt.show()\n"
   ]
  },
  {
   "cell_type": "code",
   "execution_count": null,
   "metadata": {},
   "outputs": [],
   "source": []
  },
  {
   "cell_type": "code",
   "execution_count": null,
   "metadata": {},
   "outputs": [],
   "source": []
  },
  {
   "cell_type": "code",
   "execution_count": null,
   "metadata": {},
   "outputs": [],
   "source": []
  },
  {
   "cell_type": "code",
   "execution_count": null,
   "metadata": {},
   "outputs": [],
   "source": []
  },
  {
   "cell_type": "code",
   "execution_count": null,
   "metadata": {},
   "outputs": [],
   "source": []
  },
  {
   "cell_type": "code",
   "execution_count": null,
   "metadata": {},
   "outputs": [],
   "source": [
    "# -- Set a GPS time:\n",
    "t0 = 1126259462.4    # -- GW150914\n"
   ]
  },
  {
   "cell_type": "code",
   "execution_count": null,
   "metadata": {},
   "outputs": [],
   "source": [
    "\n",
    "#-- Choose detector as H1, L1, or V1\n",
    "detector = 'H1'\n",
    "import requests, os\n",
    "import matplotlib.pyplot as plt\n",
    "%config InlineBackend.figure_format = 'retina'\n",
    "\n",
    "try:\n",
    "    from gwpy.timeseries import TimeSeries\n",
    "except:\n",
    "    ! pip install -q gwpy\n",
    "    from gwpy.timeseries import TimeSeries"
   ]
  },
  {
   "cell_type": "code",
   "execution_count": null,
   "metadata": {},
   "outputs": [],
   "source": [
    "from gwosc.locate import get_urls\n",
    "url = get_urls(detector, t0, t0)[-1]\n",
    "\n",
    "print('Downloading: ' , url)\n",
    "fn = os.path.basename(url)\n",
    "with open(fn,'wb') as strainfile:                 \n",
    "    straindata = requests.get(url)\n",
    "    strainfile.write(straindata.content)"
   ]
  },
  {
   "cell_type": "code",
   "execution_count": null,
   "metadata": {},
   "outputs": [],
   "source": [
    "strain = TimeSeries.read(fn,format='hdf5.losc')\n",
    "center = int(t0)\n",
    "strain = strain.crop(center-16, center+16)\n",
    "fig1 = strain.plot()"
   ]
  },
  {
   "cell_type": "code",
   "execution_count": null,
   "metadata": {},
   "outputs": [],
   "source": [
    "fig2 = strain.asd(fftlength=8).plot()\n",
    "plt.xlim(10,2000)\n",
    "plt.ylim(1e-24, 1e-19)"
   ]
  },
  {
   "cell_type": "code",
   "execution_count": null,
   "metadata": {},
   "outputs": [],
   "source": [
    "white_data = strain.whiten()\n",
    "bp_data = white_data.bandpass(30, 400)\n",
    "fig3 = bp_data.plot()\n",
    "plt.xlim(t0-0.2, t0+0.1)"
   ]
  },
  {
   "cell_type": "code",
   "execution_count": null,
   "metadata": {},
   "outputs": [],
   "source": [
    "dt = 1  #-- Set width of q-transform plot, in seconds\n",
    "hq = strain.q_transform(outseg=(t0-dt, t0+dt))\n",
    "fig4 = hq.plot()\n",
    "ax = fig4.gca()\n",
    "fig4.colorbar(label=\"Normalised energy\")\n",
    "ax.grid(False)\n",
    "ax.set_yscale('log')"
   ]
  },
  {
   "cell_type": "code",
   "execution_count": null,
   "metadata": {},
   "outputs": [],
   "source": []
  },
  {
   "cell_type": "code",
   "execution_count": null,
   "metadata": {},
   "outputs": [],
   "source": []
  }
 ],
 "metadata": {
  "kernelspec": {
   "display_name": "Python 3",
   "language": "python",
   "name": "python3"
  },
  "language_info": {
   "codemirror_mode": {
    "name": "ipython",
    "version": 3
   },
   "file_extension": ".py",
   "mimetype": "text/x-python",
   "name": "python",
   "nbconvert_exporter": "python",
   "pygments_lexer": "ipython3",
   "version": "3.8.3"
  }
 },
 "nbformat": 4,
 "nbformat_minor": 4
}
